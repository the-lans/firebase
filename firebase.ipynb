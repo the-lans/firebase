{
 "cells": [
  {
   "cell_type": "markdown",
   "id": "42666b9b",
   "metadata": {},
   "source": [
    "# Учётная запись"
   ]
  },
  {
   "cell_type": "markdown",
   "id": "1172ae18",
   "metadata": {},
   "source": [
    "Чтобы сгенерировать файл закрытого ключа для вашей учётной записи службы:\n",
    "\n",
    "1\\) В Firebase консоли откройте *Настройки > [Учётные записи служб](https://console.firebase.google.com/project/_/settings/serviceaccounts/adminsdk)*.\n",
    "\n",
    "2\\) Нажмите кнопку *Создать новый секретный ключ*, а затем подтвердить, нажав *Создать ключ*.\n",
    "\n",
    "3\\) Надёжно храните файл JSON, содержащий ключ."
   ]
  },
  {
   "cell_type": "code",
   "execution_count": 1,
   "id": "e31562d7",
   "metadata": {},
   "outputs": [],
   "source": [
    "import firebase_admin\n",
    "from firebase_admin import credentials\n",
    "import json"
   ]
  },
  {
   "cell_type": "code",
   "execution_count": 2,
   "id": "32138fb5",
   "metadata": {},
   "outputs": [],
   "source": [
    "SERVICE_ACCOUNT_KEY = '<SERVICE_ACCOUNT_KEY>'"
   ]
  },
  {
   "cell_type": "markdown",
   "id": "5d20e5ce",
   "metadata": {},
   "source": [
    "# Cloud Firestore"
   ]
  },
  {
   "cell_type": "markdown",
   "id": "b89d5c52",
   "metadata": {},
   "source": [
    "Более полное руководство здесь: [Начать работу с Cloud Firestore](https://firebase.google.com/docs/firestore/quickstart)"
   ]
  },
  {
   "cell_type": "markdown",
   "id": "9e71bf67",
   "metadata": {},
   "source": [
    "## Подключение к БД"
   ]
  },
  {
   "cell_type": "code",
   "execution_count": 3,
   "id": "1ba8f213",
   "metadata": {},
   "outputs": [],
   "source": [
    "from firebase_admin import firestore"
   ]
  },
  {
   "cell_type": "code",
   "execution_count": 4,
   "id": "4a43fac8",
   "metadata": {},
   "outputs": [],
   "source": [
    "DATABASE_NAME = '<DATABASE_NAME>'"
   ]
  },
  {
   "cell_type": "code",
   "execution_count": 5,
   "id": "38bde316",
   "metadata": {},
   "outputs": [],
   "source": [
    "cred = credentials.Certificate(SERVICE_ACCOUNT_KEY)\n",
    "firebase_admin.initialize_app(cred)\n",
    "db = firestore.client()"
   ]
  },
  {
   "cell_type": "markdown",
   "id": "989353e1",
   "metadata": {},
   "source": [
    "## Добавление/обновление данных"
   ]
  },
  {
   "cell_type": "markdown",
   "id": "8c6140f5",
   "metadata": {},
   "source": [
    "Для примера рассмотрим JSON-файл со списком книг. У нас есть информация о четырёх книгах следующим образом."
   ]
  },
  {
   "cell_type": "code",
   "execution_count": 6,
   "id": "01a65039",
   "metadata": {},
   "outputs": [
    {
     "data": {
      "text/plain": [
       "{'Book1': {'Title': 'The Fellowship of the Ring',\n",
       "  'Author': 'J.R.R. Tolkien',\n",
       "  'Genre': 'Epic fantasy',\n",
       "  'Price': 105,\n",
       "  'value': 3},\n",
       " 'Book2': {'Title': 'The Two Towers',\n",
       "  'Author': 'J.R.R. Tolkien',\n",
       "  'Genre': 'Epic fantasy',\n",
       "  'Price': 100,\n",
       "  'value': 2},\n",
       " 'Book3': {'Title': 'The Return of the King',\n",
       "  'Author': 'Tolkien',\n",
       "  'Genre': 'Fantasy',\n",
       "  'Price': 80,\n",
       "  'value': 1},\n",
       " 'Book4': {'Title': 'Brida',\n",
       "  'Author': 'Paulo Coelho',\n",
       "  'Genre': 'Fiction',\n",
       "  'Price': 90,\n",
       "  'value': 4}}"
      ]
     },
     "execution_count": 6,
     "metadata": {},
     "output_type": "execute_result"
    }
   ],
   "source": [
    "with open('books.json', 'r') as f:\n",
    "    file_contents = json.load(f)\n",
    "file_contents"
   ]
  },
  {
   "cell_type": "markdown",
   "id": "a6623b16",
   "metadata": {},
   "source": [
    "Можно сохранить все данные JSON файла целиком в базу дунных.  \n",
    "В терминах БД:  \n",
    " * books - это коллекция  \n",
    " * Каждая конкретная книга - это документ."
   ]
  },
  {
   "cell_type": "code",
   "execution_count": 7,
   "id": "99dfd9e1",
   "metadata": {},
   "outputs": [],
   "source": [
    "books_ref = db.collection(u'books')\n",
    "for key, val in file_contents.items():\n",
    "    books_ref.document(key).set(val)"
   ]
  },
  {
   "cell_type": "markdown",
   "id": "bc0aa446",
   "metadata": {},
   "source": [
    "Вывод сведений о книгах на экран."
   ]
  },
  {
   "cell_type": "code",
   "execution_count": 8,
   "id": "fea38a7f",
   "metadata": {},
   "outputs": [
    {
     "name": "stdout",
     "output_type": "stream",
     "text": [
      "Book1 => {'Author': 'J.R.R. Tolkien', 'Price': 105, 'value': 3, 'Title': 'The Fellowship of the Ring', 'Genre': 'Epic fantasy'}\n",
      "Book2 => {'Genre': 'Epic fantasy', 'Title': 'The Two Towers', 'value': 2, 'Price': 100, 'Author': 'J.R.R. Tolkien'}\n",
      "Book3 => {'value': 1, 'Price': 80, 'Author': 'Tolkien', 'Genre': 'Fantasy', 'Title': 'The Return of the King'}\n",
      "Book4 => {'Genre': 'Fiction', 'Title': 'Brida', 'value': 4, 'Price': 90, 'Author': 'Paulo Coelho'}\n"
     ]
    }
   ],
   "source": [
    "books_ref = db.collection(u'books')\n",
    "docs = books_ref.stream()\n",
    "\n",
    "for doc in docs:\n",
    "    print(f'{doc.id} => {doc.to_dict()}')"
   ]
  },
  {
   "cell_type": "markdown",
   "id": "ba6e451a",
   "metadata": {},
   "source": [
    "Обновление данных по книге *'Book1'*."
   ]
  },
  {
   "cell_type": "code",
   "execution_count": 9,
   "id": "817dfd5e",
   "metadata": {},
   "outputs": [
    {
     "data": {
      "text/plain": [
       "update_time {\n",
       "  seconds: 1642831769\n",
       "  nanos: 506262000\n",
       "}"
      ]
     },
     "execution_count": 9,
     "metadata": {},
     "output_type": "execute_result"
    }
   ],
   "source": [
    "book_ref = db.collection(u'books').document(u'Book1')\n",
    "book_ref.update({u'Price': 120})"
   ]
  },
  {
   "cell_type": "markdown",
   "id": "600555a6",
   "metadata": {},
   "source": [
    "Вы можете установить поле в своём документе для отметки времени сервера, которая отслеживает, когда сервер получает обновление."
   ]
  },
  {
   "cell_type": "code",
   "execution_count": 10,
   "id": "41644a2c",
   "metadata": {},
   "outputs": [
    {
     "data": {
      "text/plain": [
       "update_time {\n",
       "  seconds: 1642831769\n",
       "  nanos: 596514000\n",
       "}\n",
       "transform_results {\n",
       "  timestamp_value {\n",
       "    seconds: 1642831769\n",
       "    nanos: 591000000\n",
       "  }\n",
       "}"
      ]
     },
     "execution_count": 10,
     "metadata": {},
     "output_type": "execute_result"
    }
   ],
   "source": [
    "book_ref = db.collection(u'books').document(u'Book1')\n",
    "book_ref.update({u'timestamp': firestore.SERVER_TIMESTAMP})"
   ]
  },
  {
   "cell_type": "markdown",
   "id": "df73f343",
   "metadata": {},
   "source": [
    "Вы можете увеличивать или уменьшать значение числового поля, как показано в следующем примере. Операция приращения увеличивает или уменьшает текущее значение поля на заданную величину."
   ]
  },
  {
   "cell_type": "code",
   "execution_count": 11,
   "id": "aaeebd93",
   "metadata": {},
   "outputs": [
    {
     "data": {
      "text/plain": [
       "update_time {\n",
       "  seconds: 1642831769\n",
       "  nanos: 660887000\n",
       "}\n",
       "transform_results {\n",
       "  integer_value: 150\n",
       "}"
      ]
     },
     "execution_count": 11,
     "metadata": {},
     "output_type": "execute_result"
    }
   ],
   "source": [
    "book_ref = db.collection(u'books').document(u'Book2')\n",
    "book_ref.update({'Price': firestore.Increment(50)})"
   ]
  },
  {
   "cell_type": "markdown",
   "id": "f7b0ebcf",
   "metadata": {},
   "source": [
    "Если документ содержит поле массива, вы можете использовать *arrayUnion()* и *arrayRemove()* для добавления и удаления элементов. *arrayUnion()* добавляет элементы в массив, но только, когда элементы не присутствуют. *arrayRemove()* удаляет все экземпляры каждого данного элемента."
   ]
  },
  {
   "cell_type": "code",
   "execution_count": 12,
   "id": "f5a14794",
   "metadata": {},
   "outputs": [
    {
     "data": {
      "text/plain": [
       "update_time {\n",
       "  seconds: 1642831769\n",
       "  nanos: 728670000\n",
       "}\n",
       "transform_results {\n",
       "  null_value: NULL_VALUE\n",
       "}"
      ]
     },
     "execution_count": 12,
     "metadata": {},
     "output_type": "execute_result"
    }
   ],
   "source": [
    "book_ref = db.collection(u'books').document(u'Book2')\n",
    "book_ref.update({u'pages': firestore.ArrayUnion([12, 15, 20])})"
   ]
  },
  {
   "cell_type": "code",
   "execution_count": 13,
   "id": "ff62848d",
   "metadata": {},
   "outputs": [
    {
     "data": {
      "text/plain": [
       "update_time {\n",
       "  seconds: 1642831769\n",
       "  nanos: 801748000\n",
       "}\n",
       "transform_results {\n",
       "  null_value: NULL_VALUE\n",
       "}"
      ]
     },
     "execution_count": 13,
     "metadata": {},
     "output_type": "execute_result"
    }
   ],
   "source": [
    "book_ref.update({u'pages': firestore.ArrayRemove([15])})"
   ]
  },
  {
   "cell_type": "markdown",
   "id": "f4a2743d",
   "metadata": {},
   "source": [
    "## Выборка данных"
   ]
  },
  {
   "cell_type": "markdown",
   "id": "39450315",
   "metadata": {},
   "source": [
    "Извлечь содержимое одного документа."
   ]
  },
  {
   "cell_type": "code",
   "execution_count": 14,
   "id": "6f2ff96b",
   "metadata": {},
   "outputs": [
    {
     "name": "stdout",
     "output_type": "stream",
     "text": [
      "Document data: {'pages': [12, 20], 'Title': 'The Two Towers', 'value': 2, 'Price': 150, 'Author': 'J.R.R. Tolkien', 'Genre': 'Epic fantasy'}\n"
     ]
    }
   ],
   "source": [
    "book_ref = db.collection(u'books').document(u'Book2')\n",
    "\n",
    "doc = book_ref.get()\n",
    "if doc.exists:\n",
    "    print(f'Document data: {doc.to_dict()}')\n",
    "else:\n",
    "    print(u'No such document!')"
   ]
  },
  {
   "cell_type": "markdown",
   "id": "b83bb1f1",
   "metadata": {},
   "source": [
    "Получить несколько документов из коллекции."
   ]
  },
  {
   "cell_type": "code",
   "execution_count": 15,
   "id": "2d747e5e",
   "metadata": {},
   "outputs": [],
   "source": [
    "docs = db.collection(u'books').where(u'Price', u'==', 100).stream()\n",
    "\n",
    "for doc in docs:\n",
    "    print(f'{doc.id} => {doc.to_dict()}')"
   ]
  },
  {
   "cell_type": "markdown",
   "id": "1fd50923",
   "metadata": {},
   "source": [
    "Все документы в коллекции."
   ]
  },
  {
   "cell_type": "code",
   "execution_count": 16,
   "id": "448745bf",
   "metadata": {},
   "outputs": [
    {
     "name": "stdout",
     "output_type": "stream",
     "text": [
      "Book1 => {'value': 3, 'Price': 120, 'Title': 'The Fellowship of the Ring', 'timestamp': DatetimeWithNanoseconds(2022, 1, 22, 6, 9, 29, 591000, tzinfo=datetime.timezone.utc), 'Author': 'J.R.R. Tolkien', 'Genre': 'Epic fantasy'}\n",
      "Book2 => {'pages': [12, 20], 'Title': 'The Two Towers', 'value': 2, 'Price': 150, 'Author': 'J.R.R. Tolkien', 'Genre': 'Epic fantasy'}\n",
      "Book3 => {'Author': 'Tolkien', 'Price': 80, 'value': 1, 'Title': 'The Return of the King', 'Genre': 'Fantasy'}\n",
      "Book4 => {'Genre': 'Fiction', 'Title': 'Brida', 'Price': 90, 'value': 4, 'Author': 'Paulo Coelho'}\n"
     ]
    }
   ],
   "source": [
    "docs = db.collection(u'books').stream()\n",
    "\n",
    "for doc in docs:\n",
    "    print(f'{doc.id} => {doc.to_dict()}')"
   ]
  },
  {
   "cell_type": "markdown",
   "id": "4c7c3cfc",
   "metadata": {},
   "source": [
    "Оператор вхождения in проверяет несколько значений."
   ]
  },
  {
   "cell_type": "code",
   "execution_count": 17,
   "id": "acd98a94",
   "metadata": {},
   "outputs": [
    {
     "name": "stdout",
     "output_type": "stream",
     "text": [
      "Book1 => {'Author': 'J.R.R. Tolkien', 'Genre': 'Epic fantasy', 'value': 3, 'Title': 'The Fellowship of the Ring', 'Price': 120, 'timestamp': DatetimeWithNanoseconds(2022, 1, 22, 6, 9, 29, 591000, tzinfo=datetime.timezone.utc)}\n",
      "Book2 => {'value': 2, 'Price': 150, 'Author': 'J.R.R. Tolkien', 'Genre': 'Epic fantasy', 'pages': [12, 20], 'Title': 'The Two Towers'}\n"
     ]
    }
   ],
   "source": [
    "book_ref = db.collection(u'books')\n",
    "query = book_ref.where(u'Genre', u'in', [u'Epic fantasy', u'History'])\n",
    "\n",
    "for doc in query.stream():\n",
    "    print(f'{doc.id} => {doc.to_dict()}')"
   ]
  },
  {
   "cell_type": "markdown",
   "id": "5afa8c6e",
   "metadata": {},
   "source": [
    "Диапазон фильтров только на одном поле."
   ]
  },
  {
   "cell_type": "code",
   "execution_count": 18,
   "id": "1de6a2a5",
   "metadata": {},
   "outputs": [
    {
     "name": "stdout",
     "output_type": "stream",
     "text": [
      "Book4 => {'Title': 'Brida', 'Genre': 'Fiction', 'Author': 'Paulo Coelho', 'value': 4, 'Price': 90}\n",
      "Book1 => {'Author': 'J.R.R. Tolkien', 'Genre': 'Epic fantasy', 'Price': 120, 'value': 3, 'Title': 'The Fellowship of the Ring', 'timestamp': DatetimeWithNanoseconds(2022, 1, 22, 6, 9, 29, 591000, tzinfo=datetime.timezone.utc)}\n"
     ]
    }
   ],
   "source": [
    "book_ref = db.collection(u'books')\n",
    "query = book_ref.where(u'Price', u'>=', 90).where(u'Price', u'<=', 120)\n",
    "\n",
    "for doc in query.stream():\n",
    "    print(f'{doc.id} => {doc.to_dict()}')"
   ]
  },
  {
   "cell_type": "markdown",
   "id": "a490d474",
   "metadata": {},
   "source": [
    "Составные фильтры на разных полях."
   ]
  },
  {
   "cell_type": "code",
   "execution_count": 19,
   "id": "1fe44b11",
   "metadata": {},
   "outputs": [
    {
     "name": "stdout",
     "output_type": "stream",
     "text": [
      "Book1 => {'Price': 120, 'value': 3, 'timestamp': DatetimeWithNanoseconds(2022, 1, 22, 6, 9, 29, 591000, tzinfo=datetime.timezone.utc), 'Author': 'J.R.R. Tolkien', 'Genre': 'Epic fantasy', 'Title': 'The Fellowship of the Ring'}\n"
     ]
    }
   ],
   "source": [
    "book_ref = db.collection(u'books')\n",
    "query = book_ref.where(u'Author', u'==', u'J.R.R. Tolkien').where(u'Price', u'==', 120)\n",
    "\n",
    "for doc in query.stream():\n",
    "    print(f'{doc.id} => {doc.to_dict()}')"
   ]
  },
  {
   "cell_type": "markdown",
   "id": "164c76a8",
   "metadata": {},
   "source": [
    "Для объединения операторов равенства с операторами неравенства, < , <= , > и != вы должны создать [составной индекс](https://firebase.google.com/docs/firestore/query-data/indexing)."
   ]
  },
  {
   "cell_type": "markdown",
   "id": "b46c60f5",
   "metadata": {},
   "source": [
    "Вы можете запросить первые 2 книги в алфавитном порядке по автору."
   ]
  },
  {
   "cell_type": "code",
   "execution_count": 20,
   "id": "e6687590",
   "metadata": {},
   "outputs": [
    {
     "name": "stdout",
     "output_type": "stream",
     "text": [
      "Book2 => {'Title': 'The Two Towers', 'pages': [12, 20], 'Genre': 'Epic fantasy', 'Price': 150, 'value': 2, 'Author': 'J.R.R. Tolkien'}\n",
      "Book1 => {'Title': 'The Fellowship of the Ring', 'value': 3, 'Price': 120, 'Author': 'J.R.R. Tolkien', 'Genre': 'Epic fantasy', 'timestamp': DatetimeWithNanoseconds(2022, 1, 22, 6, 9, 29, 591000, tzinfo=datetime.timezone.utc)}\n"
     ]
    }
   ],
   "source": [
    "book_ref = db.collection(u'books')\n",
    "query = book_ref.order_by(u'Author').limit_to_last(2)\n",
    "for doc in query.get():\n",
    "    print(f'{doc.id} => {doc.to_dict()}')"
   ]
  },
  {
   "cell_type": "code",
   "execution_count": 21,
   "id": "321f91a9",
   "metadata": {},
   "outputs": [
    {
     "name": "stdout",
     "output_type": "stream",
     "text": [
      "Book4 => {'Price': 90, 'value': 4, 'Author': 'Paulo Coelho', 'Title': 'Brida', 'Genre': 'Fiction'}\n",
      "Book3 => {'value': 1, 'Price': 80, 'Author': 'Tolkien', 'Genre': 'Fantasy', 'Title': 'The Return of the King'}\n"
     ]
    }
   ],
   "source": [
    "book_ref = db.collection(u'books')\n",
    "query = book_ref.order_by(u'Genre', direction=firestore.Query.DESCENDING).limit(2)\n",
    "for doc in query.stream():\n",
    "    print(f'{doc.id} => {doc.to_dict()}')"
   ]
  },
  {
   "cell_type": "markdown",
   "id": "3367dd65",
   "metadata": {},
   "source": [
    "Также можно сделать по нескольким полям. "
   ]
  },
  {
   "cell_type": "code",
   "execution_count": 22,
   "id": "946f3d16",
   "metadata": {},
   "outputs": [
    {
     "name": "stdout",
     "output_type": "stream",
     "text": [
      "Book2 => {'Price': 150, 'value': 2, 'Author': 'J.R.R. Tolkien', 'Title': 'The Two Towers', 'pages': [12, 20], 'Genre': 'Epic fantasy'}\n"
     ]
    }
   ],
   "source": [
    "book_ref = db.collection(u'books')\n",
    "query = book_ref.where(u'Price', u'>', 120).order_by(u'Price', direction=firestore.Query.DESCENDING).limit(10)\n",
    "\n",
    "for doc in query.stream():\n",
    "    print(f'{doc.id} => {doc.to_dict()}')"
   ]
  },
  {
   "cell_type": "markdown",
   "id": "e2749953",
   "metadata": {},
   "source": [
    "## Удаление данных"
   ]
  },
  {
   "cell_type": "markdown",
   "id": "38b784b2",
   "metadata": {},
   "source": [
    "Чтобы удалить документ, используйте *delete()* метод."
   ]
  },
  {
   "cell_type": "code",
   "execution_count": 23,
   "id": "d9d00aaa",
   "metadata": {},
   "outputs": [
    {
     "data": {
      "text/plain": [
       "DatetimeWithNanoseconds(2022, 1, 22, 6, 9, 30, 546915, tzinfo=datetime.timezone.utc)"
      ]
     },
     "execution_count": 23,
     "metadata": {},
     "output_type": "execute_result"
    }
   ],
   "source": [
    "db.collection(u'books').document(u'Book4').delete()"
   ]
  },
  {
   "cell_type": "markdown",
   "id": "55194207",
   "metadata": {},
   "source": [
    "Для того, чтобы удалить определённые поля из документа, используйте *FieldValue.delete()* метод при обновлении документа."
   ]
  },
  {
   "cell_type": "code",
   "execution_count": 24,
   "id": "db47f7df",
   "metadata": {},
   "outputs": [
    {
     "data": {
      "text/plain": [
       "update_time {\n",
       "  seconds: 1642831770\n",
       "  nanos: 616314000\n",
       "}"
      ]
     },
     "execution_count": 24,
     "metadata": {},
     "output_type": "execute_result"
    }
   ],
   "source": [
    "book_ref = db.collection(u'books').document(u'Book3')\n",
    "book_ref.update({u'Author': firestore.DELETE_FIELD})"
   ]
  },
  {
   "cell_type": "code",
   "execution_count": 25,
   "id": "bbf9cfa8",
   "metadata": {},
   "outputs": [
    {
     "name": "stdout",
     "output_type": "stream",
     "text": [
      "Book1 => {'timestamp': DatetimeWithNanoseconds(2022, 1, 22, 6, 9, 29, 591000, tzinfo=datetime.timezone.utc), 'Genre': 'Epic fantasy', 'Author': 'J.R.R. Tolkien', 'Title': 'The Fellowship of the Ring', 'value': 3, 'Price': 120}\n",
      "Book2 => {'pages': [12, 20], 'Title': 'The Two Towers', 'Price': 150, 'value': 2, 'Author': 'J.R.R. Tolkien', 'Genre': 'Epic fantasy'}\n",
      "Book3 => {'Title': 'The Return of the King', 'Genre': 'Fantasy', 'Price': 80, 'value': 1}\n"
     ]
    }
   ],
   "source": [
    "books_ref = db.collection(u'books')\n",
    "docs = books_ref.stream()\n",
    "\n",
    "for doc in docs:\n",
    "    print(f'{doc.id} => {doc.to_dict()}')"
   ]
  },
  {
   "cell_type": "code",
   "execution_count": 26,
   "id": "645255ac",
   "metadata": {},
   "outputs": [],
   "source": [
    "firebase_admin.delete_app(firebase_admin.get_app())"
   ]
  },
  {
   "cell_type": "markdown",
   "id": "dcbf104a",
   "metadata": {},
   "source": [
    "# Realtime Database"
   ]
  },
  {
   "cell_type": "markdown",
   "id": "24457bde",
   "metadata": {},
   "source": [
    "Более полное руководство здесь: [Начать работу с Realtime Database](https://firebase.google.com/docs/database/admin/start)"
   ]
  },
  {
   "cell_type": "markdown",
   "id": "5f3eaba4",
   "metadata": {},
   "source": [
    "## Подключение к БД"
   ]
  },
  {
   "cell_type": "code",
   "execution_count": 27,
   "id": "a0e8337d",
   "metadata": {},
   "outputs": [],
   "source": [
    "from firebase_admin import db"
   ]
  },
  {
   "cell_type": "code",
   "execution_count": 28,
   "id": "4fa525b3",
   "metadata": {},
   "outputs": [],
   "source": [
    "DATABASE_NAME = '<DATABASE_NAME>'\n",
    "DATABASE_SERVER = '<DATABASE_SERVER>'\n",
    "DATABASE_URL = f'https://{DATABASE_NAME}-default-rtdb.{DATABASE_SERVER}.firebasedatabase.app'"
   ]
  },
  {
   "cell_type": "code",
   "execution_count": 29,
   "id": "51578884",
   "metadata": {},
   "outputs": [
    {
     "name": "stdout",
     "output_type": "stream",
     "text": [
      "Перейти к базе данных: https://test-3835c-default-rtdb.europe-west1.firebasedatabase.app\n"
     ]
    }
   ],
   "source": [
    "print(f'Перейти к базе данных: {DATABASE_URL}')"
   ]
  },
  {
   "cell_type": "markdown",
   "id": "4de660b9",
   "metadata": {},
   "source": [
    "Rules:\n",
    "<code>\n",
    "{\n",
    "  \"rules\": {\n",
    "    \"books\" : {\n",
    "          \".indexOn\": [\"Price\", \"Author\", \"Genre\", \"Title\", \"value\"]\n",
    "        },\n",
    "    \".read\": true,\n",
    "    \".write\": true,\n",
    "  }\n",
    "}\n",
    "</code>"
   ]
  },
  {
   "cell_type": "code",
   "execution_count": 30,
   "id": "af9e0026",
   "metadata": {},
   "outputs": [
    {
     "data": {
      "text/plain": [
       "<firebase_admin.App at 0x231a1bfbb08>"
      ]
     },
     "execution_count": 30,
     "metadata": {},
     "output_type": "execute_result"
    }
   ],
   "source": [
    "cred = credentials.Certificate(SERVICE_ACCOUNT_KEY)\n",
    "firebase_admin.initialize_app(cred, {'databaseURL': DATABASE_URL})"
   ]
  },
  {
   "cell_type": "markdown",
   "id": "04c0482f",
   "metadata": {},
   "source": [
    "Мы устанавливаем ссылку к корню базы данных."
   ]
  },
  {
   "cell_type": "code",
   "execution_count": 31,
   "id": "3f54a53d",
   "metadata": {},
   "outputs": [],
   "source": [
    "ref = db.reference('/')"
   ]
  },
  {
   "cell_type": "markdown",
   "id": "cd32cd4f",
   "metadata": {},
   "source": [
    "## Добавление/обновление данных"
   ]
  },
  {
   "cell_type": "markdown",
   "id": "acc9cbc8",
   "metadata": {},
   "source": [
    "Все данные базы данных Firebase Realtime хранятся в виде объектов JSON. Вы можете думать о базе данных как о JSON-дереве, размещённом в облаке."
   ]
  },
  {
   "cell_type": "markdown",
   "id": "59dda4ef",
   "metadata": {},
   "source": [
    "Для примера рассмотрим JSON-файл со списком книг. У нас есть информация о четырёх книгах следующим образом."
   ]
  },
  {
   "cell_type": "code",
   "execution_count": 32,
   "id": "63c89d7a",
   "metadata": {},
   "outputs": [
    {
     "data": {
      "text/plain": [
       "{'Book1': {'Title': 'The Fellowship of the Ring',\n",
       "  'Author': 'J.R.R. Tolkien',\n",
       "  'Genre': 'Epic fantasy',\n",
       "  'Price': 105,\n",
       "  'value': 3},\n",
       " 'Book2': {'Title': 'The Two Towers',\n",
       "  'Author': 'J.R.R. Tolkien',\n",
       "  'Genre': 'Epic fantasy',\n",
       "  'Price': 100,\n",
       "  'value': 2},\n",
       " 'Book3': {'Title': 'The Return of the King',\n",
       "  'Author': 'Tolkien',\n",
       "  'Genre': 'Fantasy',\n",
       "  'Price': 80,\n",
       "  'value': 1},\n",
       " 'Book4': {'Title': 'Brida',\n",
       "  'Author': 'Paulo Coelho',\n",
       "  'Genre': 'Fiction',\n",
       "  'Price': 90,\n",
       "  'value': 4}}"
      ]
     },
     "execution_count": 32,
     "metadata": {},
     "output_type": "execute_result"
    }
   ],
   "source": [
    "with open('books.json', 'r') as f:\n",
    "    file_contents = json.load(f)\n",
    "file_contents"
   ]
  },
  {
   "cell_type": "markdown",
   "id": "fb25faf6",
   "metadata": {},
   "source": [
    "Можно сохранить все данные JSON файла целиком в базу дунных. Сначала обнуляем данную ветвь."
   ]
  },
  {
   "cell_type": "code",
   "execution_count": 33,
   "id": "119e802a",
   "metadata": {},
   "outputs": [],
   "source": [
    "ref = db.reference('/')\n",
    "ref.set({'books': -1})"
   ]
  },
  {
   "cell_type": "markdown",
   "id": "dd8368d9",
   "metadata": {},
   "source": [
    "Запись JSON целиком."
   ]
  },
  {
   "cell_type": "code",
   "execution_count": 34,
   "id": "89e0df77",
   "metadata": {},
   "outputs": [],
   "source": [
    "books_ref = db.reference('/books')\n",
    "books_ref.set(file_contents)"
   ]
  },
  {
   "cell_type": "markdown",
   "id": "9e42a84b",
   "metadata": {},
   "source": [
    "Запись данных с уникальным идентификатором."
   ]
  },
  {
   "cell_type": "code",
   "execution_count": 35,
   "id": "d994f4ec",
   "metadata": {},
   "outputs": [],
   "source": [
    "for key, value in file_contents.items():\n",
    "    books_ref.push().set(value)"
   ]
  },
  {
   "cell_type": "markdown",
   "id": "bfae7498",
   "metadata": {},
   "source": [
    "Обновление сохранённых данных."
   ]
  },
  {
   "cell_type": "code",
   "execution_count": 36,
   "id": "915b14d8",
   "metadata": {},
   "outputs": [],
   "source": [
    "books_ref = db.reference('/books/Book1')\n",
    "books_ref.update({'Price': 115})"
   ]
  },
  {
   "cell_type": "markdown",
   "id": "bfa88bba",
   "metadata": {},
   "source": [
    "## Выборка данных"
   ]
  },
  {
   "cell_type": "markdown",
   "id": "ec9e1add",
   "metadata": {},
   "source": [
    "Получить все данные."
   ]
  },
  {
   "cell_type": "code",
   "execution_count": 37,
   "id": "7138ae12",
   "metadata": {},
   "outputs": [
    {
     "name": "stdout",
     "output_type": "stream",
     "text": [
      "https://test-3835c-default-rtdb.europe-west1.firebasedatabase.app/books.json?print=pretty\n"
     ]
    },
    {
     "data": {
      "text/plain": [
       "{'-Mu-OrScrUShczL5a9II': {'Author': 'J.R.R. Tolkien',\n",
       "  'Genre': 'Epic fantasy',\n",
       "  'Price': 105,\n",
       "  'Title': 'The Fellowship of the Ring',\n",
       "  'value': 3},\n",
       " '-Mu-OrVRbosP9QezusMv': {'Author': 'J.R.R. Tolkien',\n",
       "  'Genre': 'Epic fantasy',\n",
       "  'Price': 100,\n",
       "  'Title': 'The Two Towers',\n",
       "  'value': 2},\n",
       " '-Mu-OrY0eZm7TXv4hhdm': {'Author': 'Tolkien',\n",
       "  'Genre': 'Fantasy',\n",
       "  'Price': 80,\n",
       "  'Title': 'The Return of the King',\n",
       "  'value': 1},\n",
       " '-Mu-Or_RjSqCDG9NJ-fs': {'Author': 'Paulo Coelho',\n",
       "  'Genre': 'Fiction',\n",
       "  'Price': 90,\n",
       "  'Title': 'Brida',\n",
       "  'value': 4},\n",
       " 'Book1': {'Author': 'J.R.R. Tolkien',\n",
       "  'Genre': 'Epic fantasy',\n",
       "  'Price': 115,\n",
       "  'Title': 'The Fellowship of the Ring',\n",
       "  'value': 3},\n",
       " 'Book2': {'Author': 'J.R.R. Tolkien',\n",
       "  'Genre': 'Epic fantasy',\n",
       "  'Price': 100,\n",
       "  'Title': 'The Two Towers',\n",
       "  'value': 2},\n",
       " 'Book3': {'Author': 'Tolkien',\n",
       "  'Genre': 'Fantasy',\n",
       "  'Price': 80,\n",
       "  'Title': 'The Return of the King',\n",
       "  'value': 1},\n",
       " 'Book4': {'Author': 'Paulo Coelho',\n",
       "  'Genre': 'Fiction',\n",
       "  'Price': 90,\n",
       "  'Title': 'Brida',\n",
       "  'value': 4}}"
      ]
     },
     "execution_count": 37,
     "metadata": {},
     "output_type": "execute_result"
    }
   ],
   "source": [
    "books_ref = db.reference('/books')\n",
    "print(f'{DATABASE_URL}/books.json?print=pretty')\n",
    "books_ref.get()"
   ]
  },
  {
   "cell_type": "markdown",
   "id": "173c6ac0",
   "metadata": {},
   "source": [
    "Изменение цены книги по одному автору."
   ]
  },
  {
   "cell_type": "code",
   "execution_count": 38,
   "id": "1a5fd27b",
   "metadata": {},
   "outputs": [],
   "source": [
    "best_sellers = books_ref.get()\n",
    "for key, value in best_sellers.items():\n",
    "    if(value['Author'] == 'Tolkien'):\n",
    "        books_ref.child(key).update({'Price': 75})"
   ]
  },
  {
   "cell_type": "markdown",
   "id": "0875d95c",
   "metadata": {},
   "source": [
    "Упорядочевание по значению цены."
   ]
  },
  {
   "cell_type": "code",
   "execution_count": 39,
   "id": "caddf619",
   "metadata": {
    "scrolled": true
   },
   "outputs": [
    {
     "name": "stdout",
     "output_type": "stream",
     "text": [
      "https://test-3835c-default-rtdb.europe-west1.firebasedatabase.app/books.json?orderBy=\"Price\"&print=pretty\n",
      "-Mu-OrY0eZm7TXv4hhdm => {'Author': 'Tolkien', 'Genre': 'Fantasy', 'Price': 75, 'Title': 'The Return of the King', 'value': 1}\n",
      "Book3 => {'Author': 'Tolkien', 'Genre': 'Fantasy', 'Price': 75, 'Title': 'The Return of the King', 'value': 1}\n",
      "-Mu-Or_RjSqCDG9NJ-fs => {'Author': 'Paulo Coelho', 'Genre': 'Fiction', 'Price': 90, 'Title': 'Brida', 'value': 4}\n",
      "Book4 => {'Author': 'Paulo Coelho', 'Genre': 'Fiction', 'Price': 90, 'Title': 'Brida', 'value': 4}\n",
      "-Mu-OrVRbosP9QezusMv => {'Author': 'J.R.R. Tolkien', 'Genre': 'Epic fantasy', 'Price': 100, 'Title': 'The Two Towers', 'value': 2}\n",
      "Book2 => {'Author': 'J.R.R. Tolkien', 'Genre': 'Epic fantasy', 'Price': 100, 'Title': 'The Two Towers', 'value': 2}\n",
      "-Mu-OrScrUShczL5a9II => {'Author': 'J.R.R. Tolkien', 'Genre': 'Epic fantasy', 'Price': 105, 'Title': 'The Fellowship of the Ring', 'value': 3}\n",
      "Book1 => {'Author': 'J.R.R. Tolkien', 'Genre': 'Epic fantasy', 'Price': 115, 'Title': 'The Fellowship of the Ring', 'value': 3}\n"
     ]
    }
   ],
   "source": [
    "snapshot = books_ref.order_by_child('Price').get()\n",
    "print(f'{DATABASE_URL}/books.json?orderBy=\"Price\"&print=pretty')\n",
    "for key, val in snapshot.items():\n",
    "    print(f'{key} => {val}')"
   ]
  },
  {
   "cell_type": "markdown",
   "id": "85b46cf1",
   "metadata": {},
   "source": [
    "Можно упорядочить узлы по их ключам."
   ]
  },
  {
   "cell_type": "code",
   "execution_count": 40,
   "id": "4fa57e1f",
   "metadata": {},
   "outputs": [
    {
     "name": "stdout",
     "output_type": "stream",
     "text": [
      "https://test-3835c-default-rtdb.europe-west1.firebasedatabase.app/books.json?orderBy=\"$key\"&startAt=\"Book1\"&endAt=\"Book2\"&print=pretty\n",
      "Book1\n",
      "Book2\n"
     ]
    }
   ],
   "source": [
    "snapshot = books_ref.order_by_key().start_at('Book1').end_at('Book2').get()\n",
    "print(f'{DATABASE_URL}/books.json?orderBy=\"$key\"&startAt=\"Book1\"&endAt=\"Book2\"&print=pretty')\n",
    "for key in snapshot:\n",
    "    print(key)"
   ]
  },
  {
   "cell_type": "markdown",
   "id": "26c8cea7",
   "metadata": {},
   "source": [
    "Самая дорогая книга."
   ]
  },
  {
   "cell_type": "code",
   "execution_count": 41,
   "id": "4ede36a1",
   "metadata": {
    "scrolled": true
   },
   "outputs": [
    {
     "name": "stdout",
     "output_type": "stream",
     "text": [
      "https://test-3835c-default-rtdb.europe-west1.firebasedatabase.app/books.json?orderBy=\"Price\"&limitToLast=1&print=pretty\n",
      "Book1 => {'Author': 'J.R.R. Tolkien', 'Genre': 'Epic fantasy', 'Price': 115, 'Title': 'The Fellowship of the Ring', 'value': 3}\n"
     ]
    }
   ],
   "source": [
    "snapshot = books_ref.order_by_child('Price').limit_to_last(1).get()\n",
    "print(f'{DATABASE_URL}/books.json?orderBy=\"Price\"&limitToLast=1&print=pretty')\n",
    "for key, val in snapshot.items():\n",
    "    print(f'{key} => {val}')"
   ]
  },
  {
   "cell_type": "markdown",
   "id": "48a33aef",
   "metadata": {},
   "source": [
    "Самая дешёвая книга."
   ]
  },
  {
   "cell_type": "code",
   "execution_count": 42,
   "id": "b91067e1",
   "metadata": {},
   "outputs": [
    {
     "name": "stdout",
     "output_type": "stream",
     "text": [
      "https://test-3835c-default-rtdb.europe-west1.firebasedatabase.app/books.json?orderBy=\"Price\"&limitToFirst=1&print=pretty\n",
      "-Mu-OrY0eZm7TXv4hhdm => {'Author': 'Tolkien', 'Genre': 'Fantasy', 'Price': 75, 'Title': 'The Return of the King', 'value': 1}\n"
     ]
    }
   ],
   "source": [
    "snapshot = books_ref.order_by_child('Price').limit_to_first(1).get()\n",
    "print(f'{DATABASE_URL}/books.json?orderBy=\"Price\"&limitToFirst=1&print=pretty')\n",
    "for key, val in snapshot.items():\n",
    "    print(f'{key} => {val}')"
   ]
  },
  {
   "cell_type": "markdown",
   "id": "0e45f0f4",
   "metadata": {},
   "source": [
    "Отбор по значению цены."
   ]
  },
  {
   "cell_type": "code",
   "execution_count": 43,
   "id": "b25c93e1",
   "metadata": {},
   "outputs": [
    {
     "name": "stdout",
     "output_type": "stream",
     "text": [
      "https://test-3835c-default-rtdb.europe-west1.firebasedatabase.app/books.json?orderBy=\"Price\"&equalTo=100&print=pretty\n"
     ]
    },
    {
     "data": {
      "text/plain": [
       "OrderedDict([('-Mu-OrVRbosP9QezusMv',\n",
       "              {'Author': 'J.R.R. Tolkien',\n",
       "               'Genre': 'Epic fantasy',\n",
       "               'Price': 100,\n",
       "               'Title': 'The Two Towers',\n",
       "               'value': 2}),\n",
       "             ('Book2',\n",
       "              {'Author': 'J.R.R. Tolkien',\n",
       "               'Genre': 'Epic fantasy',\n",
       "               'Price': 100,\n",
       "               'Title': 'The Two Towers',\n",
       "               'value': 2})])"
      ]
     },
     "execution_count": 43,
     "metadata": {},
     "output_type": "execute_result"
    }
   ],
   "source": [
    "print(f'{DATABASE_URL}/books.json?orderBy=\"Price\"&equalTo=100&print=pretty')\n",
    "books_ref.order_by_child('Price').equal_to(100).get()"
   ]
  },
  {
   "cell_type": "markdown",
   "id": "7d7cba01",
   "metadata": {},
   "source": [
    "Цена книги по крайней мере 105."
   ]
  },
  {
   "cell_type": "code",
   "execution_count": 44,
   "id": "b63807ab",
   "metadata": {},
   "outputs": [
    {
     "name": "stdout",
     "output_type": "stream",
     "text": [
      "https://test-3835c-default-rtdb.europe-west1.firebasedatabase.app/books.json?orderBy=\"Price\"&startAt=105&print=pretty\n",
      "-Mu-OrScrUShczL5a9II => {'Author': 'J.R.R. Tolkien', 'Genre': 'Epic fantasy', 'Price': 105, 'Title': 'The Fellowship of the Ring', 'value': 3}\n",
      "Book1 => {'Author': 'J.R.R. Tolkien', 'Genre': 'Epic fantasy', 'Price': 115, 'Title': 'The Fellowship of the Ring', 'value': 3}\n"
     ]
    }
   ],
   "source": [
    "snapshot = books_ref.order_by_child('Price').start_at(105).get()\n",
    "print(f'{DATABASE_URL}/books.json?orderBy=\"Price\"&startAt=105&print=pretty')\n",
    "for key, val in snapshot.items():\n",
    "    print(f'{key} => {val}')"
   ]
  },
  {
   "cell_type": "markdown",
   "id": "dbe4d8f4",
   "metadata": {},
   "source": [
    "Выводит все узлы до *'Book1'* лексиграфически."
   ]
  },
  {
   "cell_type": "code",
   "execution_count": 45,
   "id": "e1c2ee7d",
   "metadata": {},
   "outputs": [
    {
     "name": "stdout",
     "output_type": "stream",
     "text": [
      "https://test-3835c-default-rtdb.europe-west1.firebasedatabase.app/books.json?orderBy=\"$key\"&endAt=\"Book1\"&print=pretty\n",
      "-Mu-OrScrUShczL5a9II\n",
      "-Mu-OrVRbosP9QezusMv\n",
      "-Mu-OrY0eZm7TXv4hhdm\n",
      "-Mu-Or_RjSqCDG9NJ-fs\n",
      "Book1\n"
     ]
    }
   ],
   "source": [
    "snapshot = books_ref.order_by_key().end_at('Book1').get()\n",
    "print(f'{DATABASE_URL}/books.json?orderBy=\"$key\"&endAt=\"Book1\"&print=pretty')\n",
    "for key in snapshot:\n",
    "    print(key)"
   ]
  },
  {
   "cell_type": "markdown",
   "id": "0a70d647",
   "metadata": {},
   "source": [
    "## Удаление данных"
   ]
  },
  {
   "cell_type": "markdown",
   "id": "0fe71f89",
   "metadata": {},
   "source": [
    "Удаляем одну книгу."
   ]
  },
  {
   "cell_type": "code",
   "execution_count": 46,
   "id": "923a72f4",
   "metadata": {},
   "outputs": [],
   "source": [
    "books_ref = db.reference('/books')\n",
    "books_ref.update({'Book1': None})"
   ]
  },
  {
   "cell_type": "code",
   "execution_count": 47,
   "id": "6446cb6d",
   "metadata": {},
   "outputs": [
    {
     "name": "stdout",
     "output_type": "stream",
     "text": [
      "-Mu-OrScrUShczL5a9II\n",
      "-Mu-OrVRbosP9QezusMv\n",
      "-Mu-OrY0eZm7TXv4hhdm\n",
      "-Mu-Or_RjSqCDG9NJ-fs\n",
      "Book2\n",
      "Book3\n",
      "Book4\n"
     ]
    }
   ],
   "source": [
    "for key in books_ref.get():\n",
    "    print(key)"
   ]
  },
  {
   "cell_type": "markdown",
   "id": "de80ff92",
   "metadata": {},
   "source": [
    "Очищаем все данные."
   ]
  },
  {
   "cell_type": "code",
   "execution_count": 48,
   "id": "2d6487ed",
   "metadata": {},
   "outputs": [],
   "source": [
    "ref = db.reference('/')\n",
    "ref.set({'books': -1})"
   ]
  },
  {
   "cell_type": "code",
   "execution_count": 49,
   "id": "4e3c61f2",
   "metadata": {},
   "outputs": [],
   "source": [
    "firebase_admin.delete_app(firebase_admin.get_app())"
   ]
  },
  {
   "cell_type": "code",
   "execution_count": null,
   "id": "3cd09b1a",
   "metadata": {},
   "outputs": [],
   "source": []
  }
 ],
 "metadata": {
  "kernelspec": {
   "display_name": "Python 3 (ipykernel)",
   "language": "python",
   "name": "python3"
  },
  "language_info": {
   "codemirror_mode": {
    "name": "ipython",
    "version": 3
   },
   "file_extension": ".py",
   "mimetype": "text/x-python",
   "name": "python",
   "nbconvert_exporter": "python",
   "pygments_lexer": "ipython3",
   "version": "3.7.10"
  },
  "toc": {
   "base_numbering": 1,
   "nav_menu": {
    "height": "130px",
    "width": "262px"
   },
   "number_sections": true,
   "sideBar": true,
   "skip_h1_title": false,
   "title_cell": "Table of Contents",
   "title_sidebar": "Contents",
   "toc_cell": false,
   "toc_position": {
    "height": "calc(100% - 180px)",
    "left": "10px",
    "top": "150px",
    "width": "294px"
   },
   "toc_section_display": true,
   "toc_window_display": true
  }
 },
 "nbformat": 4,
 "nbformat_minor": 5
}
